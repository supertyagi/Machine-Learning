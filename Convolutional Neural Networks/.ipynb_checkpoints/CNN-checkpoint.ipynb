{
 "cells": [
  {
   "cell_type": "code",
   "execution_count": 1,
   "metadata": {},
   "outputs": [
    {
     "name": "stderr",
     "output_type": "stream",
     "text": [
      "Using TensorFlow backend.\n",
      "WARNING:root:Limited tf.compat.v2.summary API due to missing TensorBoard installation.\n",
      "WARNING:root:Limited tf.compat.v2.summary API due to missing TensorBoard installation.\n",
      "WARNING:root:Limited tf.compat.v2.summary API due to missing TensorBoard installation.\n",
      "WARNING:root:Limited tf.compat.v2.summary API due to missing TensorBoard installation.\n",
      "WARNING:root:Limited tf.compat.v2.summary API due to missing TensorBoard installation.\n",
      "WARNING:root:Limited tf.compat.v2.summary API due to missing TensorBoard installation.\n",
      "WARNING:root:Limited tf.summary API due to missing TensorBoard installation.\n"
     ]
    }
   ],
   "source": [
    "from keras.models import Sequential\n",
    "from keras.layers import Convolution2D\n",
    "from keras.layers import MaxPooling2D\n",
    "from keras.layers import Flatten\n",
    "from keras.layers import Dense"
   ]
  },
  {
   "cell_type": "code",
   "execution_count": 2,
   "metadata": {},
   "outputs": [],
   "source": [
    "# Initialising the CNN layer\n",
    "classifier = Sequential()"
   ]
  },
  {
   "cell_type": "code",
   "execution_count": 3,
   "metadata": {},
   "outputs": [
    {
     "name": "stderr",
     "output_type": "stream",
     "text": [
      "C:\\Users\\sarthak tyagi\\Anaconda3\\lib\\site-packages\\ipykernel_launcher.py:3: UserWarning: Update your `Conv2D` call to the Keras 2 API: `Conv2D(32, (3, 3), input_shape=(64, 64, 3..., activation=\"relu\")`\n",
      "  This is separate from the ipykernel package so we can avoid doing imports until\n"
     ]
    }
   ],
   "source": [
    "# Step-1 Convolution\n",
    "\n",
    "classifier.add(Convolution2D(32, 3, 3, input_shape = (64, 64, 3), activation = 'relu'))"
   ]
  },
  {
   "cell_type": "code",
   "execution_count": 4,
   "metadata": {},
   "outputs": [],
   "source": [
    "# Step - 2 Pooling \n",
    "\n",
    "classifier.add(MaxPooling2D(pool_size = (2, 2)))"
   ]
  },
  {
   "cell_type": "code",
   "execution_count": 5,
   "metadata": {},
   "outputs": [
    {
     "name": "stderr",
     "output_type": "stream",
     "text": [
      "C:\\Users\\sarthak tyagi\\Anaconda3\\lib\\site-packages\\ipykernel_launcher.py:3: UserWarning: Update your `Conv2D` call to the Keras 2 API: `Conv2D(32, (3, 3), activation=\"relu\")`\n",
      "  This is separate from the ipykernel package so we can avoid doing imports until\n"
     ]
    }
   ],
   "source": [
    "# Adding a second convolutional layer\n",
    "\n",
    "classifier.add(Convolution2D(32, 3, 3, activation = 'relu'))\n",
    "classifier.add(MaxPooling2D(pool_size = (2, 2)))"
   ]
  },
  {
   "cell_type": "code",
   "execution_count": 6,
   "metadata": {},
   "outputs": [],
   "source": [
    "# Step - 3 Flattening\n",
    "\n",
    "classifier.add(Flatten())"
   ]
  },
  {
   "cell_type": "code",
   "execution_count": 7,
   "metadata": {},
   "outputs": [
    {
     "name": "stderr",
     "output_type": "stream",
     "text": [
      "C:\\Users\\sarthak tyagi\\Anaconda3\\lib\\site-packages\\ipykernel_launcher.py:3: UserWarning: Update your `Dense` call to the Keras 2 API: `Dense(activation=\"relu\", units=128)`\n",
      "  This is separate from the ipykernel package so we can avoid doing imports until\n",
      "C:\\Users\\sarthak tyagi\\Anaconda3\\lib\\site-packages\\ipykernel_launcher.py:5: UserWarning: Update your `Dense` call to the Keras 2 API: `Dense(activation=\"sigmoid\", units=1)`\n",
      "  \"\"\"\n"
     ]
    }
   ],
   "source": [
    "# Step - 4 Full connection\n",
    "\n",
    "classifier.add(Dense(output_dim = 128, activation = 'relu'))\n",
    "\n",
    "classifier.add(Dense(output_dim = 1, activation = 'sigmoid'))"
   ]
  },
  {
   "cell_type": "code",
   "execution_count": 8,
   "metadata": {},
   "outputs": [],
   "source": [
    "# Compiling the CNN\n",
    "\n",
    "classifier.compile(optimizer = 'adam', loss = 'binary_crossentropy', metrics = ['accuracy'])"
   ]
  },
  {
   "cell_type": "markdown",
   "metadata": {},
   "source": [
    "##### Part - 2  Fitting the CNN to the images"
   ]
  },
  {
   "cell_type": "code",
   "execution_count": 9,
   "metadata": {},
   "outputs": [],
   "source": [
    "from keras.preprocessing.image import ImageDataGenerator"
   ]
  },
  {
   "cell_type": "code",
   "execution_count": 10,
   "metadata": {},
   "outputs": [
    {
     "name": "stdout",
     "output_type": "stream",
     "text": [
      "Found 8000 images belonging to 2 classes.\n",
      "Found 2003 images belonging to 2 classes.\n"
     ]
    },
    {
     "name": "stderr",
     "output_type": "stream",
     "text": [
      "C:\\Users\\sarthak tyagi\\Anaconda3\\lib\\site-packages\\ipykernel_launcher.py:25: UserWarning: The semantics of the Keras 2 argument `steps_per_epoch` is not the same as the Keras 1 argument `samples_per_epoch`. `steps_per_epoch` is the number of batches to draw from the generator at each epoch. Basically steps_per_epoch = samples_per_epoch/batch_size. Similarly `nb_val_samples`->`validation_steps` and `val_samples`->`steps` arguments have changed. Update your method calls accordingly.\n",
      "C:\\Users\\sarthak tyagi\\Anaconda3\\lib\\site-packages\\ipykernel_launcher.py:25: UserWarning: Update your `fit_generator` call to the Keras 2 API: `fit_generator(<keras.pre..., validation_data=<keras.pre..., steps_per_epoch=250, epochs=25, validation_steps=2000)`\n"
     ]
    },
    {
     "name": "stdout",
     "output_type": "stream",
     "text": [
      "Epoch 1/25\n",
      "250/250 [==============================] - 231s 923ms/step - loss: 0.6684 - accuracy: 0.5939 - val_loss: 0.6134 - val_accuracy: 0.6768\n",
      "Epoch 2/25\n",
      "250/250 [==============================] - 194s 777ms/step - loss: 0.6048 - accuracy: 0.6736 - val_loss: 0.5509 - val_accuracy: 0.7341\n",
      "Epoch 3/25\n",
      "250/250 [==============================] - 220s 880ms/step - loss: 0.5617 - accuracy: 0.7079 - val_loss: 0.5300 - val_accuracy: 0.7545\n",
      "Epoch 4/25\n",
      "250/250 [==============================] - 224s 896ms/step - loss: 0.5218 - accuracy: 0.7448 - val_loss: 0.3447 - val_accuracy: 0.7603\n",
      "Epoch 5/25\n",
      "250/250 [==============================] - 234s 934ms/step - loss: 0.5062 - accuracy: 0.7480 - val_loss: 0.5437 - val_accuracy: 0.7392\n",
      "Epoch 6/25\n",
      "250/250 [==============================] - 225s 900ms/step - loss: 0.4792 - accuracy: 0.7704 - val_loss: 0.5792 - val_accuracy: 0.7539\n",
      "Epoch 7/25\n",
      "250/250 [==============================] - 377s 2s/step - loss: 0.4676 - accuracy: 0.7700 - val_loss: 0.5561 - val_accuracy: 0.7419\n",
      "Epoch 8/25\n",
      "250/250 [==============================] - 496s 2s/step - loss: 0.4555 - accuracy: 0.7786 - val_loss: 0.6355 - val_accuracy: 0.7694\n",
      "Epoch 9/25\n",
      "250/250 [==============================] - 282s 1s/step - loss: 0.4376 - accuracy: 0.7921 - val_loss: 0.4160 - val_accuracy: 0.7529\n",
      "Epoch 10/25\n",
      "250/250 [==============================] - 236s 945ms/step - loss: 0.4250 - accuracy: 0.8024 - val_loss: 0.3910 - val_accuracy: 0.7820\n",
      "Epoch 11/25\n",
      "250/250 [==============================] - 228s 912ms/step - loss: 0.4186 - accuracy: 0.8055 - val_loss: 0.3540 - val_accuracy: 0.7743\n",
      "Epoch 12/25\n",
      "250/250 [==============================] - 245s 980ms/step - loss: 0.4096 - accuracy: 0.8116 - val_loss: 0.5319 - val_accuracy: 0.7607\n",
      "Epoch 13/25\n",
      "250/250 [==============================] - 252s 1s/step - loss: 0.3863 - accuracy: 0.8227 - val_loss: 0.5548 - val_accuracy: 0.7902\n",
      "Epoch 14/25\n",
      "250/250 [==============================] - 260s 1s/step - loss: 0.3744 - accuracy: 0.8285 - val_loss: 0.4332 - val_accuracy: 0.7993\n",
      "Epoch 15/25\n",
      "250/250 [==============================] - 333s 1s/step - loss: 0.3508 - accuracy: 0.8409 - val_loss: 0.7256 - val_accuracy: 0.7898\n",
      "Epoch 16/25\n",
      "250/250 [==============================] - 428s 2s/step - loss: 0.3575 - accuracy: 0.8419 - val_loss: 0.5878 - val_accuracy: 0.8036\n",
      "Epoch 17/25\n",
      "250/250 [==============================] - 439s 2s/step - loss: 0.3336 - accuracy: 0.8490 - val_loss: 0.6667 - val_accuracy: 0.7926\n",
      "Epoch 18/25\n",
      "250/250 [==============================] - 432s 2s/step - loss: 0.3272 - accuracy: 0.8568 - val_loss: 0.2941 - val_accuracy: 0.7874\n",
      "Epoch 19/25\n",
      "250/250 [==============================] - 449s 2s/step - loss: 0.3065 - accuracy: 0.8676 - val_loss: 0.3247 - val_accuracy: 0.8030\n",
      "Epoch 20/25\n",
      "250/250 [==============================] - 407s 2s/step - loss: 0.2960 - accuracy: 0.8691 - val_loss: 0.4385 - val_accuracy: 0.7905\n",
      "Epoch 21/25\n",
      "250/250 [==============================] - 397s 2s/step - loss: 0.2922 - accuracy: 0.8737 - val_loss: 0.5033 - val_accuracy: 0.8036\n",
      "Epoch 22/25\n",
      "250/250 [==============================] - 398s 2s/step - loss: 0.2703 - accuracy: 0.8838 - val_loss: 0.7838 - val_accuracy: 0.7958\n",
      "Epoch 23/25\n",
      "250/250 [==============================] - 397s 2s/step - loss: 0.2680 - accuracy: 0.8851 - val_loss: 1.1225 - val_accuracy: 0.8054\n",
      "Epoch 24/25\n",
      "250/250 [==============================] - 395s 2s/step - loss: 0.2525 - accuracy: 0.8967 - val_loss: 0.2038 - val_accuracy: 0.7811\n",
      "Epoch 25/25\n",
      "250/250 [==============================] - 323s 1s/step - loss: 0.2385 - accuracy: 0.9010 - val_loss: 0.6698 - val_accuracy: 0.7942\n"
     ]
    },
    {
     "data": {
      "text/plain": [
       "<keras.callbacks.callbacks.History at 0x1de94b46448>"
      ]
     },
     "execution_count": 10,
     "metadata": {},
     "output_type": "execute_result"
    }
   ],
   "source": [
    "train_datagen = ImageDataGenerator(rescale = 1./255,\n",
    "                                   shear_range = 0.2,\n",
    "                                   zoom_range = 0.2,\n",
    "                                   horizontal_flip = True)\n",
    "\n",
    "# Generating images for the Test set\n",
    "test_datagen = ImageDataGenerator(rescale = 1./255)\n",
    "\n",
    "# Creating the Training set\n",
    "training_set = train_datagen.flow_from_directory('dataset/training_set',\n",
    "                                                 target_size = (64, 64),\n",
    "                                                 batch_size = 32,\n",
    "                                                 class_mode = 'binary')\n",
    "\n",
    "# Creating the Test set\n",
    "test_set = test_datagen.flow_from_directory('dataset/test_set',\n",
    "                                            target_size = (64, 64),\n",
    "                                            batch_size = 32,\n",
    "                                            class_mode = 'binary')\n",
    "\n",
    "classifier.fit_generator(training_set,\n",
    "                  samples_per_epoch = 8000,\n",
    "                  nb_epoch = 25,\n",
    "                  validation_data = test_set,\n",
    "                  nb_val_samples = 2000)"
   ]
  },
  {
   "cell_type": "code",
   "execution_count": 11,
   "metadata": {},
   "outputs": [],
   "source": [
    "y_pred = classifier.predict(test_set)"
   ]
  },
  {
   "cell_type": "code",
   "execution_count": 16,
   "metadata": {},
   "outputs": [],
   "source": [
    "import numpy as np"
   ]
  },
  {
   "cell_type": "code",
   "execution_count": 29,
   "metadata": {},
   "outputs": [
    {
     "name": "stdout",
     "output_type": "stream",
     "text": [
      "[[1]]\n",
      "The image is of a  dog\n"
     ]
    }
   ],
   "source": [
    "from keras.preprocessing import image\n",
    "# Replace codo_2.jpg by your image path\n",
    "test_image = image.load_img('dataset/validation/test-image-10.jpg', target_size = (64, 64))\n",
    "test_image = image.img_to_array(test_image)\n",
    "test_image = np.expand_dims(test_image, axis = 0)\n",
    "result = classifier.predict_classes(test_image)\n",
    "print(result)\n",
    "training_set.class_indices\n",
    "if result[0][0] == 1:\n",
    "    prediction = 'dog'\n",
    "    print(\"The image is of a \",prediction)\n",
    "else:\n",
    "    prediction = 'cat'\n",
    "    print(\"The image is of a \",prediction)"
   ]
  },
  {
   "cell_type": "code",
   "execution_count": null,
   "metadata": {},
   "outputs": [],
   "source": []
  }
 ],
 "metadata": {
  "kernelspec": {
   "display_name": "Python 3",
   "language": "python",
   "name": "python3"
  },
  "language_info": {
   "codemirror_mode": {
    "name": "ipython",
    "version": 3
   },
   "file_extension": ".py",
   "mimetype": "text/x-python",
   "name": "python",
   "nbconvert_exporter": "python",
   "pygments_lexer": "ipython3",
   "version": "3.7.4"
  }
 },
 "nbformat": 4,
 "nbformat_minor": 4
}
