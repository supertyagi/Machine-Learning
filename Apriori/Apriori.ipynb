{
 "cells": [
  {
   "cell_type": "code",
   "execution_count": 1,
   "metadata": {},
   "outputs": [],
   "source": [
    "import numpy as np\n",
    "import pandas as pd\n",
    "import matplotlib.pyplot as plt"
   ]
  },
  {
   "cell_type": "code",
   "execution_count": 2,
   "metadata": {},
   "outputs": [],
   "source": [
    "%matplotlib inline"
   ]
  },
  {
   "cell_type": "code",
   "execution_count": 5,
   "metadata": {},
   "outputs": [],
   "source": [
    "df = pd.read_csv('Market_Basket_Optimisation.csv', header = None)"
   ]
  },
  {
   "cell_type": "code",
   "execution_count": 6,
   "metadata": {},
   "outputs": [
    {
     "data": {
      "text/html": [
       "<div>\n",
       "<style scoped>\n",
       "    .dataframe tbody tr th:only-of-type {\n",
       "        vertical-align: middle;\n",
       "    }\n",
       "\n",
       "    .dataframe tbody tr th {\n",
       "        vertical-align: top;\n",
       "    }\n",
       "\n",
       "    .dataframe thead th {\n",
       "        text-align: right;\n",
       "    }\n",
       "</style>\n",
       "<table border=\"1\" class=\"dataframe\">\n",
       "  <thead>\n",
       "    <tr style=\"text-align: right;\">\n",
       "      <th></th>\n",
       "      <th>0</th>\n",
       "      <th>1</th>\n",
       "      <th>2</th>\n",
       "      <th>3</th>\n",
       "      <th>4</th>\n",
       "      <th>5</th>\n",
       "      <th>6</th>\n",
       "      <th>7</th>\n",
       "      <th>8</th>\n",
       "      <th>9</th>\n",
       "      <th>10</th>\n",
       "      <th>11</th>\n",
       "      <th>12</th>\n",
       "      <th>13</th>\n",
       "      <th>14</th>\n",
       "      <th>15</th>\n",
       "      <th>16</th>\n",
       "      <th>17</th>\n",
       "      <th>18</th>\n",
       "      <th>19</th>\n",
       "    </tr>\n",
       "  </thead>\n",
       "  <tbody>\n",
       "    <tr>\n",
       "      <td>0</td>\n",
       "      <td>shrimp</td>\n",
       "      <td>almonds</td>\n",
       "      <td>avocado</td>\n",
       "      <td>vegetables mix</td>\n",
       "      <td>green grapes</td>\n",
       "      <td>whole weat flour</td>\n",
       "      <td>yams</td>\n",
       "      <td>cottage cheese</td>\n",
       "      <td>energy drink</td>\n",
       "      <td>tomato juice</td>\n",
       "      <td>low fat yogurt</td>\n",
       "      <td>green tea</td>\n",
       "      <td>honey</td>\n",
       "      <td>salad</td>\n",
       "      <td>mineral water</td>\n",
       "      <td>salmon</td>\n",
       "      <td>antioxydant juice</td>\n",
       "      <td>frozen smoothie</td>\n",
       "      <td>spinach</td>\n",
       "      <td>olive oil</td>\n",
       "    </tr>\n",
       "    <tr>\n",
       "      <td>1</td>\n",
       "      <td>burgers</td>\n",
       "      <td>meatballs</td>\n",
       "      <td>eggs</td>\n",
       "      <td>NaN</td>\n",
       "      <td>NaN</td>\n",
       "      <td>NaN</td>\n",
       "      <td>NaN</td>\n",
       "      <td>NaN</td>\n",
       "      <td>NaN</td>\n",
       "      <td>NaN</td>\n",
       "      <td>NaN</td>\n",
       "      <td>NaN</td>\n",
       "      <td>NaN</td>\n",
       "      <td>NaN</td>\n",
       "      <td>NaN</td>\n",
       "      <td>NaN</td>\n",
       "      <td>NaN</td>\n",
       "      <td>NaN</td>\n",
       "      <td>NaN</td>\n",
       "      <td>NaN</td>\n",
       "    </tr>\n",
       "    <tr>\n",
       "      <td>2</td>\n",
       "      <td>chutney</td>\n",
       "      <td>NaN</td>\n",
       "      <td>NaN</td>\n",
       "      <td>NaN</td>\n",
       "      <td>NaN</td>\n",
       "      <td>NaN</td>\n",
       "      <td>NaN</td>\n",
       "      <td>NaN</td>\n",
       "      <td>NaN</td>\n",
       "      <td>NaN</td>\n",
       "      <td>NaN</td>\n",
       "      <td>NaN</td>\n",
       "      <td>NaN</td>\n",
       "      <td>NaN</td>\n",
       "      <td>NaN</td>\n",
       "      <td>NaN</td>\n",
       "      <td>NaN</td>\n",
       "      <td>NaN</td>\n",
       "      <td>NaN</td>\n",
       "      <td>NaN</td>\n",
       "    </tr>\n",
       "    <tr>\n",
       "      <td>3</td>\n",
       "      <td>turkey</td>\n",
       "      <td>avocado</td>\n",
       "      <td>NaN</td>\n",
       "      <td>NaN</td>\n",
       "      <td>NaN</td>\n",
       "      <td>NaN</td>\n",
       "      <td>NaN</td>\n",
       "      <td>NaN</td>\n",
       "      <td>NaN</td>\n",
       "      <td>NaN</td>\n",
       "      <td>NaN</td>\n",
       "      <td>NaN</td>\n",
       "      <td>NaN</td>\n",
       "      <td>NaN</td>\n",
       "      <td>NaN</td>\n",
       "      <td>NaN</td>\n",
       "      <td>NaN</td>\n",
       "      <td>NaN</td>\n",
       "      <td>NaN</td>\n",
       "      <td>NaN</td>\n",
       "    </tr>\n",
       "    <tr>\n",
       "      <td>4</td>\n",
       "      <td>mineral water</td>\n",
       "      <td>milk</td>\n",
       "      <td>energy bar</td>\n",
       "      <td>whole wheat rice</td>\n",
       "      <td>green tea</td>\n",
       "      <td>NaN</td>\n",
       "      <td>NaN</td>\n",
       "      <td>NaN</td>\n",
       "      <td>NaN</td>\n",
       "      <td>NaN</td>\n",
       "      <td>NaN</td>\n",
       "      <td>NaN</td>\n",
       "      <td>NaN</td>\n",
       "      <td>NaN</td>\n",
       "      <td>NaN</td>\n",
       "      <td>NaN</td>\n",
       "      <td>NaN</td>\n",
       "      <td>NaN</td>\n",
       "      <td>NaN</td>\n",
       "      <td>NaN</td>\n",
       "    </tr>\n",
       "  </tbody>\n",
       "</table>\n",
       "</div>"
      ],
      "text/plain": [
       "              0          1           2                 3             4   \\\n",
       "0         shrimp    almonds     avocado    vegetables mix  green grapes   \n",
       "1        burgers  meatballs        eggs               NaN           NaN   \n",
       "2        chutney        NaN         NaN               NaN           NaN   \n",
       "3         turkey    avocado         NaN               NaN           NaN   \n",
       "4  mineral water       milk  energy bar  whole wheat rice     green tea   \n",
       "\n",
       "                 5     6               7             8             9   \\\n",
       "0  whole weat flour  yams  cottage cheese  energy drink  tomato juice   \n",
       "1               NaN   NaN             NaN           NaN           NaN   \n",
       "2               NaN   NaN             NaN           NaN           NaN   \n",
       "3               NaN   NaN             NaN           NaN           NaN   \n",
       "4               NaN   NaN             NaN           NaN           NaN   \n",
       "\n",
       "               10         11     12     13             14      15  \\\n",
       "0  low fat yogurt  green tea  honey  salad  mineral water  salmon   \n",
       "1             NaN        NaN    NaN    NaN            NaN     NaN   \n",
       "2             NaN        NaN    NaN    NaN            NaN     NaN   \n",
       "3             NaN        NaN    NaN    NaN            NaN     NaN   \n",
       "4             NaN        NaN    NaN    NaN            NaN     NaN   \n",
       "\n",
       "                  16               17       18         19  \n",
       "0  antioxydant juice  frozen smoothie  spinach  olive oil  \n",
       "1                NaN              NaN      NaN        NaN  \n",
       "2                NaN              NaN      NaN        NaN  \n",
       "3                NaN              NaN      NaN        NaN  \n",
       "4                NaN              NaN      NaN        NaN  "
      ]
     },
     "execution_count": 6,
     "metadata": {},
     "output_type": "execute_result"
    }
   ],
   "source": [
    "df.head()"
   ]
  },
  {
   "cell_type": "code",
   "execution_count": 7,
   "metadata": {},
   "outputs": [
    {
     "name": "stdout",
     "output_type": "stream",
     "text": [
      "<class 'pandas.core.frame.DataFrame'>\n",
      "RangeIndex: 7501 entries, 0 to 7500\n",
      "Data columns (total 20 columns):\n",
      "0     7501 non-null object\n",
      "1     5747 non-null object\n",
      "2     4389 non-null object\n",
      "3     3345 non-null object\n",
      "4     2529 non-null object\n",
      "5     1864 non-null object\n",
      "6     1369 non-null object\n",
      "7     981 non-null object\n",
      "8     654 non-null object\n",
      "9     395 non-null object\n",
      "10    256 non-null object\n",
      "11    154 non-null object\n",
      "12    87 non-null object\n",
      "13    47 non-null object\n",
      "14    25 non-null object\n",
      "15    8 non-null object\n",
      "16    4 non-null object\n",
      "17    4 non-null object\n",
      "18    3 non-null object\n",
      "19    1 non-null object\n",
      "dtypes: object(20)\n",
      "memory usage: 1.1+ MB\n"
     ]
    }
   ],
   "source": [
    "df.info()"
   ]
  },
  {
   "cell_type": "code",
   "execution_count": 11,
   "metadata": {},
   "outputs": [],
   "source": [
    "transactions =[]\n",
    "for i in range(0, 7501):\n",
    "    transactions.append([str(df.values[i, j]) for j in range(0, 20)])"
   ]
  },
  {
   "cell_type": "code",
   "execution_count": 16,
   "metadata": {},
   "outputs": [
    {
     "name": "stdout",
     "output_type": "stream",
     "text": [
      "['turkey', 'avocado', 'nan', 'nan', 'nan', 'nan', 'nan', 'nan', 'nan', 'nan', 'nan', 'nan', 'nan', 'nan', 'nan', 'nan', 'nan', 'nan', 'nan', 'nan']\n"
     ]
    }
   ],
   "source": [
    "print(transactions[3])"
   ]
  },
  {
   "cell_type": "markdown",
   "metadata": {},
   "source": [
    "#### Training the Apriori on the dataset"
   ]
  },
  {
   "cell_type": "code",
   "execution_count": 29,
   "metadata": {},
   "outputs": [],
   "source": [
    "from apyori import apriori"
   ]
  },
  {
   "cell_type": "code",
   "execution_count": 30,
   "metadata": {},
   "outputs": [],
   "source": [
    "rules = apriori(transactions, min_support = 0.003, min_confidence = 0.2, min_lift = 3, min_length = 2)"
   ]
  },
  {
   "cell_type": "code",
   "execution_count": 31,
   "metadata": {},
   "outputs": [],
   "source": [
    "# Visualising the results"
   ]
  },
  {
   "cell_type": "code",
   "execution_count": 32,
   "metadata": {},
   "outputs": [],
   "source": [
    "results = list(rules)"
   ]
  },
  {
   "cell_type": "code",
   "execution_count": 34,
   "metadata": {},
   "outputs": [
    {
     "data": {
      "text/plain": [
       "[RelationRecord(items=frozenset({'chicken', 'light cream'}), support=0.004532728969470737, ordered_statistics=[OrderedStatistic(items_base=frozenset({'light cream'}), items_add=frozenset({'chicken'}), confidence=0.29059829059829057, lift=4.84395061728395)]),\n",
       " RelationRecord(items=frozenset({'mushroom cream sauce', 'escalope'}), support=0.005732568990801226, ordered_statistics=[OrderedStatistic(items_base=frozenset({'mushroom cream sauce'}), items_add=frozenset({'escalope'}), confidence=0.3006993006993007, lift=3.790832696715049)]),\n",
       " RelationRecord(items=frozenset({'pasta', 'escalope'}), support=0.005865884548726837, ordered_statistics=[OrderedStatistic(items_base=frozenset({'pasta'}), items_add=frozenset({'escalope'}), confidence=0.3728813559322034, lift=4.700811850163794)]),\n",
       " RelationRecord(items=frozenset({'honey', 'fromage blanc'}), support=0.003332888948140248, ordered_statistics=[OrderedStatistic(items_base=frozenset({'fromage blanc'}), items_add=frozenset({'honey'}), confidence=0.2450980392156863, lift=5.164270764485569)]),\n",
       " RelationRecord(items=frozenset({'ground beef', 'herb & pepper'}), support=0.015997866951073192, ordered_statistics=[OrderedStatistic(items_base=frozenset({'herb & pepper'}), items_add=frozenset({'ground beef'}), confidence=0.3234501347708895, lift=3.2919938411349285)]),\n",
       " RelationRecord(items=frozenset({'tomato sauce', 'ground beef'}), support=0.005332622317024397, ordered_statistics=[OrderedStatistic(items_base=frozenset({'tomato sauce'}), items_add=frozenset({'ground beef'}), confidence=0.3773584905660377, lift=3.840659481324083)]),\n",
       " RelationRecord(items=frozenset({'light cream', 'olive oil'}), support=0.003199573390214638, ordered_statistics=[OrderedStatistic(items_base=frozenset({'light cream'}), items_add=frozenset({'olive oil'}), confidence=0.20512820512820515, lift=3.1147098515519573)]),\n",
       " RelationRecord(items=frozenset({'olive oil', 'whole wheat pasta'}), support=0.007998933475536596, ordered_statistics=[OrderedStatistic(items_base=frozenset({'whole wheat pasta'}), items_add=frozenset({'olive oil'}), confidence=0.2714932126696833, lift=4.122410097642296)]),\n",
       " RelationRecord(items=frozenset({'pasta', 'shrimp'}), support=0.005065991201173177, ordered_statistics=[OrderedStatistic(items_base=frozenset({'pasta'}), items_add=frozenset({'shrimp'}), confidence=0.3220338983050847, lift=4.506672147735896)]),\n",
       " RelationRecord(items=frozenset({'avocado', 'milk', 'spaghetti'}), support=0.003332888948140248, ordered_statistics=[OrderedStatistic(items_base=frozenset({'avocado', 'spaghetti'}), items_add=frozenset({'milk'}), confidence=0.41666666666666663, lift=3.215449245541838)]),\n",
       " RelationRecord(items=frozenset({'cake', 'milk', 'burgers'}), support=0.0037328356219170776, ordered_statistics=[OrderedStatistic(items_base=frozenset({'cake', 'milk'}), items_add=frozenset({'burgers'}), confidence=0.27999999999999997, lift=3.211437308868501)]),\n",
       " RelationRecord(items=frozenset({'turkey', 'chocolate', 'burgers'}), support=0.0030662578322890282, ordered_statistics=[OrderedStatistic(items_base=frozenset({'turkey', 'chocolate'}), items_add=frozenset({'burgers'}), confidence=0.27058823529411763, lift=3.1034898363014927)]),\n",
       " RelationRecord(items=frozenset({'turkey', 'milk', 'burgers'}), support=0.003199573390214638, ordered_statistics=[OrderedStatistic(items_base=frozenset({'turkey', 'milk'}), items_add=frozenset({'burgers'}), confidence=0.2823529411764706, lift=3.2384241770102533)]),\n",
       " RelationRecord(items=frozenset({'cake', 'frozen vegetables', 'tomatoes'}), support=0.0030662578322890282, ordered_statistics=[OrderedStatistic(items_base=frozenset({'cake', 'frozen vegetables'}), items_add=frozenset({'tomatoes'}), confidence=0.2987012987012987, lift=4.367560314928736), OrderedStatistic(items_base=frozenset({'cake', 'tomatoes'}), items_add=frozenset({'frozen vegetables'}), confidence=0.36507936507936506, lift=3.8300144300144296)]),\n",
       " RelationRecord(items=frozenset({'ground beef', 'cereals', 'spaghetti'}), support=0.0030662578322890282, ordered_statistics=[OrderedStatistic(items_base=frozenset({'ground beef', 'cereals'}), items_add=frozenset({'spaghetti'}), confidence=0.6764705882352942, lift=3.8853031258445188), OrderedStatistic(items_base=frozenset({'cereals', 'spaghetti'}), items_add=frozenset({'ground beef'}), confidence=0.45999999999999996, lift=4.681763907734057)]),\n",
       " RelationRecord(items=frozenset({'chicken', 'milk', 'ground beef'}), support=0.0038661511798426876, ordered_statistics=[OrderedStatistic(items_base=frozenset({'chicken', 'ground beef'}), items_add=frozenset({'milk'}), confidence=0.40845070422535207, lift=3.152046020981858)]),\n",
       " RelationRecord(items=frozenset({'chicken', 'nan', 'light cream'}), support=0.004532728969470737, ordered_statistics=[OrderedStatistic(items_base=frozenset({'nan', 'light cream'}), items_add=frozenset({'chicken'}), confidence=0.29059829059829057, lift=4.84395061728395)]),\n",
       " RelationRecord(items=frozenset({'chicken', 'milk', 'olive oil'}), support=0.0035995200639914677, ordered_statistics=[OrderedStatistic(items_base=frozenset({'chicken', 'milk'}), items_add=frozenset({'olive oil'}), confidence=0.24324324324324323, lift=3.693456614509246), OrderedStatistic(items_base=frozenset({'chicken', 'olive oil'}), items_add=frozenset({'milk'}), confidence=0.5, lift=3.858539094650206), OrderedStatistic(items_base=frozenset({'milk', 'olive oil'}), items_add=frozenset({'chicken'}), confidence=0.2109375, lift=3.51609375)]),\n",
       " RelationRecord(items=frozenset({'chicken', 'olive oil', 'spaghetti'}), support=0.0034662045060658577, ordered_statistics=[OrderedStatistic(items_base=frozenset({'chicken', 'spaghetti'}), items_add=frozenset({'olive oil'}), confidence=0.20155038759689922, lift=3.0603835169318647)]),\n",
       " RelationRecord(items=frozenset({'chocolate', 'frozen vegetables', 'shrimp'}), support=0.005332622317024397, ordered_statistics=[OrderedStatistic(items_base=frozenset({'chocolate', 'frozen vegetables'}), items_add=frozenset({'shrimp'}), confidence=0.23255813953488375, lift=3.2545123221103784), OrderedStatistic(items_base=frozenset({'chocolate', 'shrimp'}), items_add=frozenset({'frozen vegetables'}), confidence=0.29629629629629634, lift=3.1084175084175087)]),\n",
       " RelationRecord(items=frozenset({'chocolate', 'ground beef', 'herb & pepper'}), support=0.003999466737768298, ordered_statistics=[OrderedStatistic(items_base=frozenset({'chocolate', 'herb & pepper'}), items_add=frozenset({'ground beef'}), confidence=0.4411764705882354, lift=4.4901827759597746)]),\n",
       " RelationRecord(items=frozenset({'soup', 'chocolate', 'milk'}), support=0.003999466737768298, ordered_statistics=[OrderedStatistic(items_base=frozenset({'soup', 'chocolate'}), items_add=frozenset({'milk'}), confidence=0.3947368421052632, lift=3.0462150747238472)]),\n",
       " RelationRecord(items=frozenset({'cooking oil', 'ground beef', 'spaghetti'}), support=0.004799360085321957, ordered_statistics=[OrderedStatistic(items_base=frozenset({'cooking oil', 'ground beef'}), items_add=frozenset({'spaghetti'}), confidence=0.5714285714285714, lift=3.2819951870487856), OrderedStatistic(items_base=frozenset({'cooking oil', 'spaghetti'}), items_add=frozenset({'ground beef'}), confidence=0.3025210084033613, lift=3.0789824749438446)]),\n",
       " RelationRecord(items=frozenset({'eggs', 'ground beef', 'herb & pepper'}), support=0.0041327822956939075, ordered_statistics=[OrderedStatistic(items_base=frozenset({'eggs', 'ground beef'}), items_add=frozenset({'herb & pepper'}), confidence=0.2066666666666667, lift=4.178454627133872), OrderedStatistic(items_base=frozenset({'eggs', 'herb & pepper'}), items_add=frozenset({'ground beef'}), confidence=0.3297872340425532, lift=3.3564912381997174)]),\n",
       " RelationRecord(items=frozenset({'eggs', 'red wine', 'spaghetti'}), support=0.0037328356219170776, ordered_statistics=[OrderedStatistic(items_base=frozenset({'eggs', 'red wine'}), items_add=frozenset({'spaghetti'}), confidence=0.5283018867924528, lift=3.0342974370828397)]),\n",
       " RelationRecord(items=frozenset({'nan', 'mushroom cream sauce', 'escalope'}), support=0.005732568990801226, ordered_statistics=[OrderedStatistic(items_base=frozenset({'nan', 'mushroom cream sauce'}), items_add=frozenset({'escalope'}), confidence=0.3006993006993007, lift=3.790832696715049)]),\n",
       " RelationRecord(items=frozenset({'pasta', 'nan', 'escalope'}), support=0.005865884548726837, ordered_statistics=[OrderedStatistic(items_base=frozenset({'pasta', 'nan'}), items_add=frozenset({'escalope'}), confidence=0.3728813559322034, lift=4.700811850163794)]),\n",
       " RelationRecord(items=frozenset({'french fries', 'ground beef', 'herb & pepper'}), support=0.003199573390214638, ordered_statistics=[OrderedStatistic(items_base=frozenset({'french fries', 'ground beef'}), items_add=frozenset({'herb & pepper'}), confidence=0.23076923076923078, lift=4.665768194070081), OrderedStatistic(items_base=frozenset({'french fries', 'herb & pepper'}), items_add=frozenset({'ground beef'}), confidence=0.46153846153846156, lift=4.697421981004071)]),\n",
       " RelationRecord(items=frozenset({'nan', 'honey', 'fromage blanc'}), support=0.003332888948140248, ordered_statistics=[OrderedStatistic(items_base=frozenset({'nan', 'fromage blanc'}), items_add=frozenset({'honey'}), confidence=0.2450980392156863, lift=5.164270764485569)]),\n",
       " RelationRecord(items=frozenset({'green tea', 'frozen vegetables', 'tomatoes'}), support=0.003332888948140248, ordered_statistics=[OrderedStatistic(items_base=frozenset({'green tea', 'frozen vegetables'}), items_add=frozenset({'tomatoes'}), confidence=0.2314814814814815, lift=3.38468341635983)]),\n",
       " RelationRecord(items=frozenset({'frozen vegetables', 'ground beef', 'spaghetti'}), support=0.008665511265164644, ordered_statistics=[OrderedStatistic(items_base=frozenset({'frozen vegetables', 'spaghetti'}), items_add=frozenset({'ground beef'}), confidence=0.31100478468899523, lift=3.165328208890303)]),\n",
       " RelationRecord(items=frozenset({'frozen vegetables', 'milk', 'olive oil'}), support=0.004799360085321957, ordered_statistics=[OrderedStatistic(items_base=frozenset({'frozen vegetables', 'milk'}), items_add=frozenset({'olive oil'}), confidence=0.20338983050847456, lift=3.088314005352364), OrderedStatistic(items_base=frozenset({'frozen vegetables', 'olive oil'}), items_add=frozenset({'milk'}), confidence=0.4235294117647058, lift=3.2684095860566447)]),\n",
       " RelationRecord(items=frozenset({'soup', 'frozen vegetables', 'milk'}), support=0.003999466737768298, ordered_statistics=[OrderedStatistic(items_base=frozenset({'soup', 'frozen vegetables'}), items_add=frozenset({'milk'}), confidence=0.5, lift=3.858539094650206)]),\n",
       " RelationRecord(items=frozenset({'frozen vegetables', 'milk', 'tomatoes'}), support=0.0041327822956939075, ordered_statistics=[OrderedStatistic(items_base=frozenset({'milk', 'tomatoes'}), items_add=frozenset({'frozen vegetables'}), confidence=0.29523809523809524, lift=3.0973160173160172)]),\n",
       " RelationRecord(items=frozenset({'frozen vegetables', 'shrimp', 'mineral water'}), support=0.007199040127982935, ordered_statistics=[OrderedStatistic(items_base=frozenset({'shrimp', 'mineral water'}), items_add=frozenset({'frozen vegetables'}), confidence=0.30508474576271183, lift=3.200616332819722)]),\n",
       " RelationRecord(items=frozenset({'frozen vegetables', 'olive oil', 'spaghetti'}), support=0.005732568990801226, ordered_statistics=[OrderedStatistic(items_base=frozenset({'frozen vegetables', 'spaghetti'}), items_add=frozenset({'olive oil'}), confidence=0.20574162679425836, lift=3.1240241752707125)]),\n",
       " RelationRecord(items=frozenset({'frozen vegetables', 'shrimp', 'spaghetti'}), support=0.005999200106652446, ordered_statistics=[OrderedStatistic(items_base=frozenset({'frozen vegetables', 'spaghetti'}), items_add=frozenset({'shrimp'}), confidence=0.21531100478468898, lift=3.0131489680782684)]),\n",
       " RelationRecord(items=frozenset({'frozen vegetables', 'shrimp', 'tomatoes'}), support=0.003999466737768298, ordered_statistics=[OrderedStatistic(items_base=frozenset({'frozen vegetables', 'shrimp'}), items_add=frozenset({'tomatoes'}), confidence=0.24000000000000002, lift=3.5092397660818717), OrderedStatistic(items_base=frozenset({'frozen vegetables', 'tomatoes'}), items_add=frozenset({'shrimp'}), confidence=0.2479338842975207, lift=3.4696866905143704), OrderedStatistic(items_base=frozenset({'shrimp', 'tomatoes'}), items_add=frozenset({'frozen vegetables'}), confidence=0.35714285714285715, lift=3.7467532467532467)]),\n",
       " RelationRecord(items=frozenset({'frozen vegetables', 'spaghetti', 'tomatoes'}), support=0.006665777896280496, ordered_statistics=[OrderedStatistic(items_base=frozenset({'frozen vegetables', 'spaghetti'}), items_add=frozenset({'tomatoes'}), confidence=0.23923444976076558, lift=3.4980460188216425), OrderedStatistic(items_base=frozenset({'spaghetti', 'tomatoes'}), items_add=frozenset({'frozen vegetables'}), confidence=0.3184713375796179, lift=3.341053850607991)]),\n",
       " RelationRecord(items=frozenset({'grated cheese', 'ground beef', 'spaghetti'}), support=0.005332622317024397, ordered_statistics=[OrderedStatistic(items_base=frozenset({'grated cheese', 'spaghetti'}), items_add=frozenset({'ground beef'}), confidence=0.3225806451612903, lift=3.283144395325426)]),\n",
       " RelationRecord(items=frozenset({'green tea', 'ground beef', 'tomatoes'}), support=0.0030662578322890282, ordered_statistics=[OrderedStatistic(items_base=frozenset({'green tea', 'ground beef'}), items_add=frozenset({'tomatoes'}), confidence=0.2072072072072072, lift=3.0297490472929067)]),\n",
       " RelationRecord(items=frozenset({'milk', 'ground beef', 'herb & pepper'}), support=0.0035995200639914677, ordered_statistics=[OrderedStatistic(items_base=frozenset({'milk', 'herb & pepper'}), items_add=frozenset({'ground beef'}), confidence=0.3913043478260869, lift=3.9825968969382335)]),\n",
       " RelationRecord(items=frozenset({'mineral water', 'ground beef', 'herb & pepper'}), support=0.006665777896280496, ordered_statistics=[OrderedStatistic(items_base=frozenset({'mineral water', 'herb & pepper'}), items_add=frozenset({'ground beef'}), confidence=0.39062500000000006, lift=3.975682666214383)]),\n",
       " RelationRecord(items=frozenset({'nan', 'ground beef', 'herb & pepper'}), support=0.015997866951073192, ordered_statistics=[OrderedStatistic(items_base=frozenset({'nan', 'herb & pepper'}), items_add=frozenset({'ground beef'}), confidence=0.3234501347708895, lift=3.2919938411349285)]),\n",
       " RelationRecord(items=frozenset({'ground beef', 'spaghetti', 'herb & pepper'}), support=0.006399146780429276, ordered_statistics=[OrderedStatistic(items_base=frozenset({'spaghetti', 'herb & pepper'}), items_add=frozenset({'ground beef'}), confidence=0.3934426229508197, lift=4.004359721511667)]),\n",
       " RelationRecord(items=frozenset({'milk', 'olive oil', 'ground beef'}), support=0.004932675643247567, ordered_statistics=[OrderedStatistic(items_base=frozenset({'milk', 'ground beef'}), items_add=frozenset({'olive oil'}), confidence=0.22424242424242427, lift=3.40494417862839)]),\n",
       " RelationRecord(items=frozenset({'soup', 'milk', 'ground beef'}), support=0.003999466737768298, ordered_statistics=[OrderedStatistic(items_base=frozenset({'soup', 'ground beef'}), items_add=frozenset({'milk'}), confidence=0.4109589041095891, lift=3.1714019956029094)]),\n",
       " RelationRecord(items=frozenset({'tomato sauce', 'nan', 'ground beef'}), support=0.005332622317024397, ordered_statistics=[OrderedStatistic(items_base=frozenset({'tomato sauce', 'nan'}), items_add=frozenset({'ground beef'}), confidence=0.3773584905660377, lift=3.840659481324083)]),\n",
       " RelationRecord(items=frozenset({'pepper', 'ground beef', 'spaghetti'}), support=0.003332888948140248, ordered_statistics=[OrderedStatistic(items_base=frozenset({'pepper', 'spaghetti'}), items_add=frozenset({'ground beef'}), confidence=0.33783783783783783, lift=3.4384282518610876)]),\n",
       " RelationRecord(items=frozenset({'shrimp', 'ground beef', 'spaghetti'}), support=0.005999200106652446, ordered_statistics=[OrderedStatistic(items_base=frozenset({'shrimp', 'ground beef'}), items_add=frozenset({'spaghetti'}), confidence=0.5232558139534884, lift=3.005315360233627)]),\n",
       " RelationRecord(items=frozenset({'tomato sauce', 'ground beef', 'spaghetti'}), support=0.0030662578322890282, ordered_statistics=[OrderedStatistic(items_base=frozenset({'tomato sauce', 'ground beef'}), items_add=frozenset({'spaghetti'}), confidence=0.5750000000000001, lift=3.3025076569678413), OrderedStatistic(items_base=frozenset({'tomato sauce', 'spaghetti'}), items_add=frozenset({'ground beef'}), confidence=0.4893617021276596, lift=4.980599901844742)]),\n",
       " RelationRecord(items=frozenset({'nan', 'light cream', 'olive oil'}), support=0.003199573390214638, ordered_statistics=[OrderedStatistic(items_base=frozenset({'nan', 'light cream'}), items_add=frozenset({'olive oil'}), confidence=0.20512820512820515, lift=3.1147098515519573)]),\n",
       " RelationRecord(items=frozenset({'shrimp', 'milk', 'olive oil'}), support=0.003199573390214638, ordered_statistics=[OrderedStatistic(items_base=frozenset({'shrimp', 'olive oil'}), items_add=frozenset({'milk'}), confidence=0.3934426229508197, lift=3.0362274843149164)]),\n",
       " RelationRecord(items=frozenset({'soup', 'milk', 'olive oil'}), support=0.0035995200639914677, ordered_statistics=[OrderedStatistic(items_base=frozenset({'milk', 'olive oil'}), items_add=frozenset({'soup'}), confidence=0.2109375, lift=4.174781497361478), OrderedStatistic(items_base=frozenset({'soup', 'milk'}), items_add=frozenset({'olive oil'}), confidence=0.23684210526315788, lift=3.5962603878116344), OrderedStatistic(items_base=frozenset({'soup', 'olive oil'}), items_add=frozenset({'milk'}), confidence=0.4029850746268656, lift=3.1098673300165833)]),\n",
       " RelationRecord(items=frozenset({'milk', 'olive oil', 'spaghetti'}), support=0.007199040127982935, ordered_statistics=[OrderedStatistic(items_base=frozenset({'milk', 'spaghetti'}), items_add=frozenset({'olive oil'}), confidence=0.20300751879699247, lift=3.0825089038385434)]),\n",
       " RelationRecord(items=frozenset({'soup', 'milk', 'tomatoes'}), support=0.0030662578322890282, ordered_statistics=[OrderedStatistic(items_base=frozenset({'milk', 'tomatoes'}), items_add=frozenset({'soup'}), confidence=0.21904761904761905, lift=4.335293378565146), OrderedStatistic(items_base=frozenset({'soup', 'tomatoes'}), items_add=frozenset({'milk'}), confidence=0.44230769230769235, lift=3.4133230452674903)]),\n",
       " RelationRecord(items=frozenset({'milk', 'whole wheat pasta', 'spaghetti'}), support=0.003999466737768298, ordered_statistics=[OrderedStatistic(items_base=frozenset({'whole wheat pasta', 'spaghetti'}), items_add=frozenset({'milk'}), confidence=0.4545454545454546, lift=3.5077628133183696)]),\n",
       " RelationRecord(items=frozenset({'soup', 'olive oil', 'mineral water'}), support=0.005199306759098787, ordered_statistics=[OrderedStatistic(items_base=frozenset({'soup', 'mineral water'}), items_add=frozenset({'olive oil'}), confidence=0.22543352601156072, lift=3.4230301186492245)]),\n",
       " RelationRecord(items=frozenset({'olive oil', 'whole wheat pasta', 'mineral water'}), support=0.0038661511798426876, ordered_statistics=[OrderedStatistic(items_base=frozenset({'whole wheat pasta', 'mineral water'}), items_add=frozenset({'olive oil'}), confidence=0.4027777777777778, lift=6.115862573099416)]),\n",
       " RelationRecord(items=frozenset({'nan', 'olive oil', 'whole wheat pasta'}), support=0.007998933475536596, ordered_statistics=[OrderedStatistic(items_base=frozenset({'nan', 'whole wheat pasta'}), items_add=frozenset({'olive oil'}), confidence=0.2714932126696833, lift=4.122410097642296)]),\n",
       " RelationRecord(items=frozenset({'pasta', 'nan', 'shrimp'}), support=0.005065991201173177, ordered_statistics=[OrderedStatistic(items_base=frozenset({'pasta', 'nan'}), items_add=frozenset({'shrimp'}), confidence=0.3220338983050847, lift=4.506672147735896)]),\n",
       " RelationRecord(items=frozenset({'pancakes', 'olive oil', 'spaghetti'}), support=0.005065991201173177, ordered_statistics=[OrderedStatistic(items_base=frozenset({'pancakes', 'spaghetti'}), items_add=frozenset({'olive oil'}), confidence=0.20105820105820105, lift=3.0529100529100526)]),\n",
       " RelationRecord(items=frozenset({'olive oil', 'spaghetti', 'tomatoes'}), support=0.004399413411545127, ordered_statistics=[OrderedStatistic(items_base=frozenset({'olive oil', 'tomatoes'}), items_add=frozenset({'spaghetti'}), confidence=0.6111111111111112, lift=3.5099115194827295), OrderedStatistic(items_base=frozenset({'spaghetti', 'tomatoes'}), items_add=frozenset({'olive oil'}), confidence=0.21019108280254778, lift=3.19158565202816)]),\n",
       " RelationRecord(items=frozenset({'whole wheat rice', 'spaghetti', 'tomatoes'}), support=0.0030662578322890282, ordered_statistics=[OrderedStatistic(items_base=frozenset({'whole wheat rice', 'spaghetti'}), items_add=frozenset({'tomatoes'}), confidence=0.2169811320754717, lift=3.1726617382029496)]),\n",
       " RelationRecord(items=frozenset({'nan', 'avocado', 'milk', 'spaghetti'}), support=0.003332888948140248, ordered_statistics=[OrderedStatistic(items_base=frozenset({'nan', 'avocado', 'spaghetti'}), items_add=frozenset({'milk'}), confidence=0.41666666666666663, lift=3.215449245541838)]),\n",
       " RelationRecord(items=frozenset({'cake', 'nan', 'milk', 'burgers'}), support=0.0037328356219170776, ordered_statistics=[OrderedStatistic(items_base=frozenset({'cake', 'nan', 'milk'}), items_add=frozenset({'burgers'}), confidence=0.27999999999999997, lift=3.211437308868501)]),\n",
       " RelationRecord(items=frozenset({'turkey', 'nan', 'chocolate', 'burgers'}), support=0.0030662578322890282, ordered_statistics=[OrderedStatistic(items_base=frozenset({'turkey', 'nan', 'chocolate'}), items_add=frozenset({'burgers'}), confidence=0.27058823529411763, lift=3.1034898363014927)]),\n",
       " RelationRecord(items=frozenset({'turkey', 'nan', 'milk', 'burgers'}), support=0.003199573390214638, ordered_statistics=[OrderedStatistic(items_base=frozenset({'turkey', 'nan', 'milk'}), items_add=frozenset({'burgers'}), confidence=0.2823529411764706, lift=3.2384241770102533)]),\n",
       " RelationRecord(items=frozenset({'cake', 'nan', 'frozen vegetables', 'tomatoes'}), support=0.0030662578322890282, ordered_statistics=[OrderedStatistic(items_base=frozenset({'cake', 'nan', 'frozen vegetables'}), items_add=frozenset({'tomatoes'}), confidence=0.2987012987012987, lift=4.367560314928736), OrderedStatistic(items_base=frozenset({'cake', 'nan', 'tomatoes'}), items_add=frozenset({'frozen vegetables'}), confidence=0.36507936507936506, lift=3.8300144300144296)]),\n",
       " RelationRecord(items=frozenset({'nan', 'ground beef', 'cereals', 'spaghetti'}), support=0.0030662578322890282, ordered_statistics=[OrderedStatistic(items_base=frozenset({'nan', 'ground beef', 'cereals'}), items_add=frozenset({'spaghetti'}), confidence=0.6764705882352942, lift=3.8853031258445188), OrderedStatistic(items_base=frozenset({'nan', 'cereals', 'spaghetti'}), items_add=frozenset({'ground beef'}), confidence=0.45999999999999996, lift=4.681763907734057)]),\n",
       " RelationRecord(items=frozenset({'chicken', 'nan', 'milk', 'ground beef'}), support=0.0038661511798426876, ordered_statistics=[OrderedStatistic(items_base=frozenset({'chicken', 'nan', 'ground beef'}), items_add=frozenset({'milk'}), confidence=0.40845070422535207, lift=3.152046020981858)]),\n",
       " RelationRecord(items=frozenset({'chicken', 'nan', 'milk', 'olive oil'}), support=0.0035995200639914677, ordered_statistics=[OrderedStatistic(items_base=frozenset({'chicken', 'nan', 'milk'}), items_add=frozenset({'olive oil'}), confidence=0.24324324324324323, lift=3.693456614509246), OrderedStatistic(items_base=frozenset({'chicken', 'nan', 'olive oil'}), items_add=frozenset({'milk'}), confidence=0.5, lift=3.858539094650206), OrderedStatistic(items_base=frozenset({'nan', 'milk', 'olive oil'}), items_add=frozenset({'chicken'}), confidence=0.2109375, lift=3.51609375)]),\n",
       " RelationRecord(items=frozenset({'chicken', 'nan', 'olive oil', 'spaghetti'}), support=0.0034662045060658577, ordered_statistics=[OrderedStatistic(items_base=frozenset({'chicken', 'nan', 'spaghetti'}), items_add=frozenset({'olive oil'}), confidence=0.20155038759689922, lift=3.0603835169318647)]),\n",
       " RelationRecord(items=frozenset({'eggs', 'chocolate', 'ground beef', 'mineral water'}), support=0.003999466737768298, ordered_statistics=[OrderedStatistic(items_base=frozenset({'eggs', 'chocolate', 'mineral water'}), items_add=frozenset({'ground beef'}), confidence=0.29702970297029707, lift=3.023093354111531)]),\n",
       " RelationRecord(items=frozenset({'chocolate', 'frozen vegetables', 'ground beef', 'mineral water'}), support=0.003332888948140248, ordered_statistics=[OrderedStatistic(items_base=frozenset({'chocolate', 'frozen vegetables', 'mineral water'}), items_add=frozenset({'ground beef'}), confidence=0.34246575342465757, lift=3.4855300087358976), OrderedStatistic(items_base=frozenset({'chocolate', 'ground beef', 'mineral water'}), items_add=frozenset({'frozen vegetables'}), confidence=0.30487804878048785, lift=3.1984478935698455)]),\n",
       " RelationRecord(items=frozenset({'chocolate', 'frozen vegetables', 'ground beef', 'spaghetti'}), support=0.0030662578322890282, ordered_statistics=[OrderedStatistic(items_base=frozenset({'chocolate', 'frozen vegetables', 'ground beef'}), items_add=frozenset({'spaghetti'}), confidence=0.5348837209302326, lift=3.0721001460165964), OrderedStatistic(items_base=frozenset({'chocolate', 'frozen vegetables', 'spaghetti'}), items_add=frozenset({'ground beef'}), confidence=0.3898305084745763, lift=3.967596531978015), OrderedStatistic(items_base=frozenset({'chocolate', 'ground beef', 'spaghetti'}), items_add=frozenset({'frozen vegetables'}), confidence=0.33333333333333337, lift=3.4969696969696975)]),\n",
       " RelationRecord(items=frozenset({'chocolate', 'frozen vegetables', 'milk', 'mineral water'}), support=0.003999466737768298, ordered_statistics=[OrderedStatistic(items_base=frozenset({'chocolate', 'frozen vegetables', 'mineral water'}), items_add=frozenset({'milk'}), confidence=0.4109589041095891, lift=3.1714019956029094)]),\n",
       " RelationRecord(items=frozenset({'chocolate', 'frozen vegetables', 'milk', 'spaghetti'}), support=0.0034662045060658577, ordered_statistics=[OrderedStatistic(items_base=frozenset({'chocolate', 'frozen vegetables', 'spaghetti'}), items_add=frozenset({'milk'}), confidence=0.44067796610169485, lift=3.4007463207086555), OrderedStatistic(items_base=frozenset({'chocolate', 'milk', 'spaghetti'}), items_add=frozenset({'frozen vegetables'}), confidence=0.3170731707317073, lift=3.3263858093126384)]),\n",
       " RelationRecord(items=frozenset({'chocolate', 'frozen vegetables', 'shrimp', 'mineral water'}), support=0.003199573390214638, ordered_statistics=[OrderedStatistic(items_base=frozenset({'chocolate', 'frozen vegetables', 'mineral water'}), items_add=frozenset({'shrimp'}), confidence=0.32876712328767127, lift=4.600899611531385), OrderedStatistic(items_base=frozenset({'chocolate', 'shrimp', 'mineral water'}), items_add=frozenset({'frozen vegetables'}), confidence=0.4210526315789474, lift=4.417224880382776)]),\n",
       " RelationRecord(items=frozenset({'nan', 'chocolate', 'frozen vegetables', 'shrimp'}), support=0.005332622317024397, ordered_statistics=[OrderedStatistic(items_base=frozenset({'nan', 'chocolate', 'frozen vegetables'}), items_add=frozenset({'shrimp'}), confidence=0.23255813953488375, lift=3.2545123221103784), OrderedStatistic(items_base=frozenset({'nan', 'chocolate', 'shrimp'}), items_add=frozenset({'frozen vegetables'}), confidence=0.29629629629629634, lift=3.1084175084175087)]),\n",
       " RelationRecord(items=frozenset({'nan', 'chocolate', 'ground beef', 'herb & pepper'}), support=0.003999466737768298, ordered_statistics=[OrderedStatistic(items_base=frozenset({'nan', 'chocolate', 'herb & pepper'}), items_add=frozenset({'ground beef'}), confidence=0.4411764705882354, lift=4.4901827759597746)]),\n",
       " RelationRecord(items=frozenset({'soup', 'nan', 'chocolate', 'milk'}), support=0.003999466737768298, ordered_statistics=[OrderedStatistic(items_base=frozenset({'soup', 'nan', 'chocolate'}), items_add=frozenset({'milk'}), confidence=0.3947368421052632, lift=3.0462150747238472)]),\n",
       " RelationRecord(items=frozenset({'chocolate', 'olive oil', 'spaghetti', 'mineral water'}), support=0.0038661511798426876, ordered_statistics=[OrderedStatistic(items_base=frozenset({'chocolate', 'spaghetti', 'mineral water'}), items_add=frozenset({'olive oil'}), confidence=0.2436974789915966, lift=3.700353825740822)]),\n",
       " RelationRecord(items=frozenset({'chocolate', 'shrimp', 'spaghetti', 'mineral water'}), support=0.0034662045060658577, ordered_statistics=[OrderedStatistic(items_base=frozenset({'chocolate', 'spaghetti', 'mineral water'}), items_add=frozenset({'shrimp'}), confidence=0.21848739495798317, lift=3.0576006522011783)]),\n",
       " RelationRecord(items=frozenset({'nan', 'cooking oil', 'ground beef', 'spaghetti'}), support=0.004799360085321957, ordered_statistics=[OrderedStatistic(items_base=frozenset({'nan', 'cooking oil', 'ground beef'}), items_add=frozenset({'spaghetti'}), confidence=0.5714285714285714, lift=3.2819951870487856), OrderedStatistic(items_base=frozenset({'nan', 'cooking oil', 'spaghetti'}), items_add=frozenset({'ground beef'}), confidence=0.3025210084033613, lift=3.0789824749438446)]),\n",
       " RelationRecord(items=frozenset({'eggs', 'frozen vegetables', 'milk', 'mineral water'}), support=0.0037328356219170776, ordered_statistics=[OrderedStatistic(items_base=frozenset({'eggs', 'frozen vegetables', 'mineral water'}), items_add=frozenset({'milk'}), confidence=0.411764705882353, lift=3.177620430888405)]),\n",
       " RelationRecord(items=frozenset({'eggs', 'nan', 'ground beef', 'herb & pepper'}), support=0.0041327822956939075, ordered_statistics=[OrderedStatistic(items_base=frozenset({'eggs', 'nan', 'ground beef'}), items_add=frozenset({'herb & pepper'}), confidence=0.2066666666666667, lift=4.178454627133872), OrderedStatistic(items_base=frozenset({'eggs', 'nan', 'herb & pepper'}), items_add=frozenset({'ground beef'}), confidence=0.3297872340425532, lift=3.3564912381997174)]),\n",
       " RelationRecord(items=frozenset({'eggs', 'nan', 'red wine', 'spaghetti'}), support=0.0037328356219170776, ordered_statistics=[OrderedStatistic(items_base=frozenset({'eggs', 'nan', 'red wine'}), items_add=frozenset({'spaghetti'}), confidence=0.5283018867924528, lift=3.0342974370828397)]),\n",
       " RelationRecord(items=frozenset({'nan', 'french fries', 'ground beef', 'herb & pepper'}), support=0.003199573390214638, ordered_statistics=[OrderedStatistic(items_base=frozenset({'nan', 'french fries', 'ground beef'}), items_add=frozenset({'herb & pepper'}), confidence=0.23076923076923078, lift=4.665768194070081), OrderedStatistic(items_base=frozenset({'nan', 'french fries', 'herb & pepper'}), items_add=frozenset({'ground beef'}), confidence=0.46153846153846156, lift=4.697421981004071)]),\n",
       " RelationRecord(items=frozenset({'frozen smoothie', 'milk', 'spaghetti', 'mineral water'}), support=0.003199573390214638, ordered_statistics=[OrderedStatistic(items_base=frozenset({'frozen smoothie', 'spaghetti', 'mineral water'}), items_add=frozenset({'milk'}), confidence=0.4705882352941177, lift=3.631566206729606), OrderedStatistic(items_base=frozenset({'milk', 'spaghetti', 'mineral water'}), items_add=frozenset({'frozen smoothie'}), confidence=0.2033898305084746, lift=3.211846565566459)]),\n",
       " RelationRecord(items=frozenset({'nan', 'green tea', 'frozen vegetables', 'tomatoes'}), support=0.003332888948140248, ordered_statistics=[OrderedStatistic(items_base=frozenset({'nan', 'green tea', 'frozen vegetables'}), items_add=frozenset({'tomatoes'}), confidence=0.2314814814814815, lift=3.38468341635983)]),\n",
       " RelationRecord(items=frozenset({'frozen vegetables', 'milk', 'ground beef', 'mineral water'}), support=0.0037328356219170776, ordered_statistics=[OrderedStatistic(items_base=frozenset({'frozen vegetables', 'ground beef', 'mineral water'}), items_add=frozenset({'milk'}), confidence=0.40579710144927533, lift=3.1315679608755294), OrderedStatistic(items_base=frozenset({'frozen vegetables', 'milk', 'mineral water'}), items_add=frozenset({'ground beef'}), confidence=0.3373493975903614, lift=3.4334570302921317), OrderedStatistic(items_base=frozenset({'milk', 'ground beef', 'mineral water'}), items_add=frozenset({'frozen vegetables'}), confidence=0.3373493975903614, lift=3.539101861993428)]),\n",
       " RelationRecord(items=frozenset({'frozen vegetables', 'milk', 'ground beef', 'spaghetti'}), support=0.0030662578322890282, ordered_statistics=[OrderedStatistic(items_base=frozenset({'frozen vegetables', 'milk', 'ground beef'}), items_add=frozenset({'spaghetti'}), confidence=0.5348837209302326, lift=3.0721001460165964), OrderedStatistic(items_base=frozenset({'frozen vegetables', 'milk', 'spaghetti'}), items_add=frozenset({'ground beef'}), confidence=0.3709677419354839, lift=3.7756160546242397), OrderedStatistic(items_base=frozenset({'milk', 'ground beef', 'spaghetti'}), items_add=frozenset({'frozen vegetables'}), confidence=0.3150684931506849, lift=3.305354919053549)]),\n",
       " RelationRecord(items=frozenset({'frozen vegetables', 'ground beef', 'spaghetti', 'mineral water'}), support=0.004399413411545127, ordered_statistics=[OrderedStatistic(items_base=frozenset({'frozen vegetables', 'spaghetti', 'mineral water'}), items_add=frozenset({'ground beef'}), confidence=0.3666666666666667, lift=3.7318407960199007)]),\n",
       " RelationRecord(items=frozenset({'nan', 'frozen vegetables', 'ground beef', 'spaghetti'}), support=0.008665511265164644, ordered_statistics=[OrderedStatistic(items_base=frozenset({'nan', 'frozen vegetables', 'spaghetti'}), items_add=frozenset({'ground beef'}), confidence=0.31100478468899523, lift=3.165328208890303)]),\n",
       " RelationRecord(items=frozenset({'frozen vegetables', 'milk', 'olive oil', 'mineral water'}), support=0.003332888948140248, ordered_statistics=[OrderedStatistic(items_base=frozenset({'frozen vegetables', 'milk', 'mineral water'}), items_add=frozenset({'olive oil'}), confidence=0.30120481927710846, lift=4.573557387444516), OrderedStatistic(items_base=frozenset({'frozen vegetables', 'olive oil', 'mineral water'}), items_add=frozenset({'milk'}), confidence=0.5102040816326531, lift=3.937284790459394), OrderedStatistic(items_base=frozenset({'milk', 'olive oil', 'mineral water'}), items_add=frozenset({'frozen vegetables'}), confidence=0.39062500000000006, lift=4.098011363636364)]),\n",
       " RelationRecord(items=frozenset({'soup', 'frozen vegetables', 'milk', 'mineral water'}), support=0.0030662578322890282, ordered_statistics=[OrderedStatistic(items_base=frozenset({'frozen vegetables', 'milk', 'mineral water'}), items_add=frozenset({'soup'}), confidence=0.27710843373493976, lift=5.484407286136631), OrderedStatistic(items_base=frozenset({'soup', 'frozen vegetables', 'milk'}), items_add=frozenset({'mineral water'}), confidence=0.7666666666666666, lift=3.21631245339299), OrderedStatistic(items_base=frozenset({'soup', 'frozen vegetables', 'mineral water'}), items_add=frozenset({'milk'}), confidence=0.6052631578947368, lift=4.670863114576565), OrderedStatistic(items_base=frozenset({'soup', 'milk', 'mineral water'}), items_add=frozenset({'frozen vegetables'}), confidence=0.35937500000000006, lift=3.7701704545454553)]),\n",
       " RelationRecord(items=frozenset({'frozen vegetables', 'milk', 'spaghetti', 'mineral water'}), support=0.004532728969470737, ordered_statistics=[OrderedStatistic(items_base=frozenset({'milk', 'spaghetti', 'mineral water'}), items_add=frozenset({'frozen vegetables'}), confidence=0.28813559322033894, lift=3.0228043143297376)]),\n",
       " RelationRecord(items=frozenset({'nan', 'frozen vegetables', 'milk', 'olive oil'}), support=0.004799360085321957, ordered_statistics=[OrderedStatistic(items_base=frozenset({'nan', 'frozen vegetables', 'milk'}), items_add=frozenset({'olive oil'}), confidence=0.20338983050847456, lift=3.088314005352364), OrderedStatistic(items_base=frozenset({'nan', 'frozen vegetables', 'olive oil'}), items_add=frozenset({'milk'}), confidence=0.4235294117647058, lift=3.2684095860566447)]),\n",
       " RelationRecord(items=frozenset({'soup', 'nan', 'frozen vegetables', 'milk'}), support=0.003999466737768298, ordered_statistics=[OrderedStatistic(items_base=frozenset({'soup', 'nan', 'frozen vegetables'}), items_add=frozenset({'milk'}), confidence=0.5, lift=3.858539094650206)]),\n",
       " RelationRecord(items=frozenset({'nan', 'frozen vegetables', 'milk', 'tomatoes'}), support=0.0041327822956939075, ordered_statistics=[OrderedStatistic(items_base=frozenset({'nan', 'milk', 'tomatoes'}), items_add=frozenset({'frozen vegetables'}), confidence=0.29523809523809524, lift=3.0973160173160172)]),\n",
       " RelationRecord(items=frozenset({'nan', 'frozen vegetables', 'shrimp', 'mineral water'}), support=0.007199040127982935, ordered_statistics=[OrderedStatistic(items_base=frozenset({'nan', 'shrimp', 'mineral water'}), items_add=frozenset({'frozen vegetables'}), confidence=0.3068181818181818, lift=3.218801652892562)]),\n",
       " RelationRecord(items=frozenset({'frozen vegetables', 'shrimp', 'spaghetti', 'mineral water'}), support=0.003332888948140248, ordered_statistics=[OrderedStatistic(items_base=frozenset({'frozen vegetables', 'spaghetti', 'mineral water'}), items_add=frozenset({'shrimp'}), confidence=0.2777777777777778, lift=3.8873341625207294), OrderedStatistic(items_base=frozenset({'shrimp', 'spaghetti', 'mineral water'}), items_add=frozenset({'frozen vegetables'}), confidence=0.39062500000000006, lift=4.098011363636364)]),\n",
       " RelationRecord(items=frozenset({'tomatoes', 'frozen vegetables', 'spaghetti', 'mineral water'}), support=0.0030662578322890282, ordered_statistics=[OrderedStatistic(items_base=frozenset({'frozen vegetables', 'spaghetti', 'mineral water'}), items_add=frozenset({'tomatoes'}), confidence=0.2555555555555556, lift=3.7366904916612524), OrderedStatistic(items_base=frozenset({'tomatoes', 'frozen vegetables', 'mineral water'}), items_add=frozenset({'spaghetti'}), confidence=0.5227272727272727, lift=3.0022796881525826), OrderedStatistic(items_base=frozenset({'tomatoes', 'spaghetti', 'mineral water'}), items_add=frozenset({'frozen vegetables'}), confidence=0.32857142857142857, lift=3.447012987012987)]),\n",
       " RelationRecord(items=frozenset({'nan', 'frozen vegetables', 'olive oil', 'spaghetti'}), support=0.005732568990801226, ordered_statistics=[OrderedStatistic(items_base=frozenset({'nan', 'frozen vegetables', 'spaghetti'}), items_add=frozenset({'olive oil'}), confidence=0.20574162679425836, lift=3.1240241752707125)]),\n",
       " RelationRecord(items=frozenset({'nan', 'frozen vegetables', 'shrimp', 'spaghetti'}), support=0.005999200106652446, ordered_statistics=[OrderedStatistic(items_base=frozenset({'nan', 'frozen vegetables', 'spaghetti'}), items_add=frozenset({'shrimp'}), confidence=0.21531100478468898, lift=3.0131489680782684)]),\n",
       " RelationRecord(items=frozenset({'nan', 'frozen vegetables', 'shrimp', 'tomatoes'}), support=0.003999466737768298, ordered_statistics=[OrderedStatistic(items_base=frozenset({'nan', 'frozen vegetables', 'shrimp'}), items_add=frozenset({'tomatoes'}), confidence=0.24000000000000002, lift=3.5092397660818717), OrderedStatistic(items_base=frozenset({'nan', 'frozen vegetables', 'tomatoes'}), items_add=frozenset({'shrimp'}), confidence=0.2479338842975207, lift=3.4696866905143704), OrderedStatistic(items_base=frozenset({'nan', 'shrimp', 'tomatoes'}), items_add=frozenset({'frozen vegetables'}), confidence=0.35714285714285715, lift=3.7467532467532467)]),\n",
       " RelationRecord(items=frozenset({'nan', 'frozen vegetables', 'spaghetti', 'tomatoes'}), support=0.006665777896280496, ordered_statistics=[OrderedStatistic(items_base=frozenset({'nan', 'frozen vegetables', 'spaghetti'}), items_add=frozenset({'tomatoes'}), confidence=0.23923444976076558, lift=3.4980460188216425), OrderedStatistic(items_base=frozenset({'nan', 'spaghetti', 'tomatoes'}), items_add=frozenset({'frozen vegetables'}), confidence=0.3184713375796179, lift=3.341053850607991)]),\n",
       " RelationRecord(items=frozenset({'grated cheese', 'nan', 'ground beef', 'spaghetti'}), support=0.005332622317024397, ordered_statistics=[OrderedStatistic(items_base=frozenset({'grated cheese', 'nan', 'spaghetti'}), items_add=frozenset({'ground beef'}), confidence=0.3225806451612903, lift=3.283144395325426)]),\n",
       " RelationRecord(items=frozenset({'nan', 'green tea', 'ground beef', 'tomatoes'}), support=0.0030662578322890282, ordered_statistics=[OrderedStatistic(items_base=frozenset({'nan', 'green tea', 'ground beef'}), items_add=frozenset({'tomatoes'}), confidence=0.2072072072072072, lift=3.0297490472929067)]),\n",
       " RelationRecord(items=frozenset({'nan', 'milk', 'ground beef', 'herb & pepper'}), support=0.0035995200639914677, ordered_statistics=[OrderedStatistic(items_base=frozenset({'nan', 'milk', 'herb & pepper'}), items_add=frozenset({'ground beef'}), confidence=0.3913043478260869, lift=3.9825968969382335)]),\n",
       " RelationRecord(items=frozenset({'nan', 'mineral water', 'ground beef', 'herb & pepper'}), support=0.006665777896280496, ordered_statistics=[OrderedStatistic(items_base=frozenset({'nan', 'mineral water', 'herb & pepper'}), items_add=frozenset({'ground beef'}), confidence=0.39062500000000006, lift=3.975682666214383)]),\n",
       " RelationRecord(items=frozenset({'nan', 'ground beef', 'spaghetti', 'herb & pepper'}), support=0.006399146780429276, ordered_statistics=[OrderedStatistic(items_base=frozenset({'nan', 'spaghetti', 'herb & pepper'}), items_add=frozenset({'ground beef'}), confidence=0.3934426229508197, lift=4.004359721511667)]),\n",
       " RelationRecord(items=frozenset({'nan', 'milk', 'olive oil', 'ground beef'}), support=0.004932675643247567, ordered_statistics=[OrderedStatistic(items_base=frozenset({'nan', 'milk', 'ground beef'}), items_add=frozenset({'olive oil'}), confidence=0.22424242424242427, lift=3.40494417862839)]),\n",
       " RelationRecord(items=frozenset({'soup', 'nan', 'milk', 'ground beef'}), support=0.003999466737768298, ordered_statistics=[OrderedStatistic(items_base=frozenset({'soup', 'nan', 'ground beef'}), items_add=frozenset({'milk'}), confidence=0.4109589041095891, lift=3.1714019956029094)]),\n",
       " RelationRecord(items=frozenset({'olive oil', 'ground beef', 'spaghetti', 'mineral water'}), support=0.0030662578322890282, ordered_statistics=[OrderedStatistic(items_base=frozenset({'olive oil', 'spaghetti', 'mineral water'}), items_add=frozenset({'ground beef'}), confidence=0.2987012987012987, lift=3.0401064335935435)]),\n",
       " RelationRecord(items=frozenset({'tomatoes', 'ground beef', 'spaghetti', 'mineral water'}), support=0.0030662578322890282, ordered_statistics=[OrderedStatistic(items_base=frozenset({'tomatoes', 'ground beef', 'mineral water'}), items_add=frozenset({'spaghetti'}), confidence=0.5609756097560976, lift=3.221958689724723), OrderedStatistic(items_base=frozenset({'tomatoes', 'spaghetti', 'mineral water'}), items_add=frozenset({'ground beef'}), confidence=0.32857142857142857, lift=3.344117076952898)]),\n",
       " RelationRecord(items=frozenset({'nan', 'pepper', 'ground beef', 'spaghetti'}), support=0.003332888948140248, ordered_statistics=[OrderedStatistic(items_base=frozenset({'nan', 'pepper', 'spaghetti'}), items_add=frozenset({'ground beef'}), confidence=0.33783783783783783, lift=3.4384282518610876)]),\n",
       " RelationRecord(items=frozenset({'nan', 'shrimp', 'ground beef', 'spaghetti'}), support=0.005999200106652446, ordered_statistics=[OrderedStatistic(items_base=frozenset({'nan', 'shrimp', 'ground beef'}), items_add=frozenset({'spaghetti'}), confidence=0.5232558139534884, lift=3.005315360233627)]),\n",
       " RelationRecord(items=frozenset({'tomato sauce', 'nan', 'ground beef', 'spaghetti'}), support=0.0030662578322890282, ordered_statistics=[OrderedStatistic(items_base=frozenset({'tomato sauce', 'nan', 'ground beef'}), items_add=frozenset({'spaghetti'}), confidence=0.5750000000000001, lift=3.3025076569678413), OrderedStatistic(items_base=frozenset({'tomato sauce', 'nan', 'spaghetti'}), items_add=frozenset({'ground beef'}), confidence=0.4893617021276596, lift=4.980599901844742)]),\n",
       " RelationRecord(items=frozenset({'milk', 'olive oil', 'spaghetti', 'mineral water'}), support=0.003332888948140248, ordered_statistics=[OrderedStatistic(items_base=frozenset({'milk', 'spaghetti', 'mineral water'}), items_add=frozenset({'olive oil'}), confidence=0.211864406779661, lift=3.216993755575379)]),\n",
       " RelationRecord(items=frozenset({'tomatoes', 'milk', 'spaghetti', 'mineral water'}), support=0.003332888948140248, ordered_statistics=[OrderedStatistic(items_base=frozenset({'milk', 'spaghetti', 'mineral water'}), items_add=frozenset({'tomatoes'}), confidence=0.211864406779661, lift=3.0978458387022165)]),\n",
       " RelationRecord(items=frozenset({'shrimp', 'nan', 'milk', 'olive oil'}), support=0.003199573390214638, ordered_statistics=[OrderedStatistic(items_base=frozenset({'nan', 'shrimp', 'olive oil'}), items_add=frozenset({'milk'}), confidence=0.39999999999999997, lift=3.0868312757201646)]),\n",
       " RelationRecord(items=frozenset({'soup', 'nan', 'milk', 'olive oil'}), support=0.0035995200639914677, ordered_statistics=[OrderedStatistic(items_base=frozenset({'nan', 'milk', 'olive oil'}), items_add=frozenset({'soup'}), confidence=0.2109375, lift=4.174781497361478), OrderedStatistic(items_base=frozenset({'soup', 'nan', 'milk'}), items_add=frozenset({'olive oil'}), confidence=0.23684210526315788, lift=3.5962603878116344), OrderedStatistic(items_base=frozenset({'soup', 'nan', 'olive oil'}), items_add=frozenset({'milk'}), confidence=0.4029850746268656, lift=3.1098673300165833)]),\n",
       " RelationRecord(items=frozenset({'nan', 'milk', 'olive oil', 'spaghetti'}), support=0.007199040127982935, ordered_statistics=[OrderedStatistic(items_base=frozenset({'nan', 'milk', 'spaghetti'}), items_add=frozenset({'olive oil'}), confidence=0.20300751879699247, lift=3.0825089038385434)]),\n",
       " RelationRecord(items=frozenset({'soup', 'nan', 'milk', 'tomatoes'}), support=0.0030662578322890282, ordered_statistics=[OrderedStatistic(items_base=frozenset({'nan', 'milk', 'tomatoes'}), items_add=frozenset({'soup'}), confidence=0.21904761904761905, lift=4.335293378565146), OrderedStatistic(items_base=frozenset({'soup', 'nan', 'tomatoes'}), items_add=frozenset({'milk'}), confidence=0.44230769230769235, lift=3.4133230452674903)]),\n",
       " RelationRecord(items=frozenset({'nan', 'milk', 'whole wheat pasta', 'spaghetti'}), support=0.003999466737768298, ordered_statistics=[OrderedStatistic(items_base=frozenset({'nan', 'whole wheat pasta', 'spaghetti'}), items_add=frozenset({'milk'}), confidence=0.4545454545454546, lift=3.5077628133183696)]),\n",
       " RelationRecord(items=frozenset({'soup', 'nan', 'olive oil', 'mineral water'}), support=0.005199306759098787, ordered_statistics=[OrderedStatistic(items_base=frozenset({'soup', 'nan', 'mineral water'}), items_add=frozenset({'olive oil'}), confidence=0.22543352601156072, lift=3.4230301186492245)]),\n",
       " RelationRecord(items=frozenset({'nan', 'olive oil', 'whole wheat pasta', 'mineral water'}), support=0.0038661511798426876, ordered_statistics=[OrderedStatistic(items_base=frozenset({'nan', 'whole wheat pasta', 'mineral water'}), items_add=frozenset({'olive oil'}), confidence=0.4027777777777778, lift=6.115862573099416)]),\n",
       " RelationRecord(items=frozenset({'pancakes', 'nan', 'olive oil', 'spaghetti'}), support=0.005065991201173177, ordered_statistics=[OrderedStatistic(items_base=frozenset({'nan', 'pancakes', 'spaghetti'}), items_add=frozenset({'olive oil'}), confidence=0.20105820105820105, lift=3.0529100529100526)]),\n",
       " RelationRecord(items=frozenset({'nan', 'olive oil', 'spaghetti', 'tomatoes'}), support=0.004399413411545127, ordered_statistics=[OrderedStatistic(items_base=frozenset({'nan', 'olive oil', 'tomatoes'}), items_add=frozenset({'spaghetti'}), confidence=0.6111111111111112, lift=3.5099115194827295), OrderedStatistic(items_base=frozenset({'nan', 'spaghetti', 'tomatoes'}), items_add=frozenset({'olive oil'}), confidence=0.21019108280254778, lift=3.19158565202816)]),\n",
       " RelationRecord(items=frozenset({'whole wheat rice', 'nan', 'spaghetti', 'tomatoes'}), support=0.0030662578322890282, ordered_statistics=[OrderedStatistic(items_base=frozenset({'whole wheat rice', 'nan', 'spaghetti'}), items_add=frozenset({'tomatoes'}), confidence=0.2169811320754717, lift=3.1726617382029496)]),\n",
       " RelationRecord(items=frozenset({'mineral water', 'eggs', 'chocolate', 'nan', 'ground beef'}), support=0.003999466737768298, ordered_statistics=[OrderedStatistic(items_base=frozenset({'eggs', 'nan', 'chocolate', 'mineral water'}), items_add=frozenset({'ground beef'}), confidence=0.29702970297029707, lift=3.023093354111531)]),\n",
       " RelationRecord(items=frozenset({'mineral water', 'chocolate', 'frozen vegetables', 'nan', 'ground beef'}), support=0.003332888948140248, ordered_statistics=[OrderedStatistic(items_base=frozenset({'nan', 'chocolate', 'frozen vegetables', 'mineral water'}), items_add=frozenset({'ground beef'}), confidence=0.34246575342465757, lift=3.4855300087358976), OrderedStatistic(items_base=frozenset({'nan', 'chocolate', 'ground beef', 'mineral water'}), items_add=frozenset({'frozen vegetables'}), confidence=0.30487804878048785, lift=3.1984478935698455)]),\n",
       " RelationRecord(items=frozenset({'chocolate', 'frozen vegetables', 'spaghetti', 'nan', 'ground beef'}), support=0.0030662578322890282, ordered_statistics=[OrderedStatistic(items_base=frozenset({'nan', 'chocolate', 'frozen vegetables', 'ground beef'}), items_add=frozenset({'spaghetti'}), confidence=0.5348837209302326, lift=3.0721001460165964), OrderedStatistic(items_base=frozenset({'nan', 'chocolate', 'frozen vegetables', 'spaghetti'}), items_add=frozenset({'ground beef'}), confidence=0.3898305084745763, lift=3.967596531978015), OrderedStatistic(items_base=frozenset({'nan', 'chocolate', 'ground beef', 'spaghetti'}), items_add=frozenset({'frozen vegetables'}), confidence=0.33333333333333337, lift=3.4969696969696975)]),\n",
       " RelationRecord(items=frozenset({'mineral water', 'chocolate', 'frozen vegetables', 'nan', 'milk'}), support=0.003999466737768298, ordered_statistics=[OrderedStatistic(items_base=frozenset({'nan', 'chocolate', 'frozen vegetables', 'mineral water'}), items_add=frozenset({'milk'}), confidence=0.4109589041095891, lift=3.1714019956029094)]),\n",
       " RelationRecord(items=frozenset({'chocolate', 'frozen vegetables', 'spaghetti', 'nan', 'milk'}), support=0.0034662045060658577, ordered_statistics=[OrderedStatistic(items_base=frozenset({'nan', 'chocolate', 'frozen vegetables', 'spaghetti'}), items_add=frozenset({'milk'}), confidence=0.44067796610169485, lift=3.4007463207086555), OrderedStatistic(items_base=frozenset({'nan', 'chocolate', 'milk', 'spaghetti'}), items_add=frozenset({'frozen vegetables'}), confidence=0.3170731707317073, lift=3.3263858093126384)]),\n",
       " RelationRecord(items=frozenset({'mineral water', 'chocolate', 'frozen vegetables', 'nan', 'shrimp'}), support=0.003199573390214638, ordered_statistics=[OrderedStatistic(items_base=frozenset({'nan', 'chocolate', 'frozen vegetables', 'mineral water'}), items_add=frozenset({'shrimp'}), confidence=0.32876712328767127, lift=4.600899611531385), OrderedStatistic(items_base=frozenset({'nan', 'chocolate', 'shrimp', 'mineral water'}), items_add=frozenset({'frozen vegetables'}), confidence=0.4210526315789474, lift=4.417224880382776)]),\n",
       " RelationRecord(items=frozenset({'mineral water', 'chocolate', 'spaghetti', 'nan', 'olive oil'}), support=0.0038661511798426876, ordered_statistics=[OrderedStatistic(items_base=frozenset({'nan', 'chocolate', 'spaghetti', 'mineral water'}), items_add=frozenset({'olive oil'}), confidence=0.2436974789915966, lift=3.700353825740822)]),\n",
       " RelationRecord(items=frozenset({'mineral water', 'chocolate', 'spaghetti', 'nan', 'shrimp'}), support=0.0034662045060658577, ordered_statistics=[OrderedStatistic(items_base=frozenset({'nan', 'chocolate', 'spaghetti', 'mineral water'}), items_add=frozenset({'shrimp'}), confidence=0.21848739495798317, lift=3.0576006522011783)]),\n",
       " RelationRecord(items=frozenset({'mineral water', 'eggs', 'frozen vegetables', 'nan', 'milk'}), support=0.0037328356219170776, ordered_statistics=[OrderedStatistic(items_base=frozenset({'eggs', 'nan', 'frozen vegetables', 'mineral water'}), items_add=frozenset({'milk'}), confidence=0.411764705882353, lift=3.177620430888405)]),\n",
       " RelationRecord(items=frozenset({'mineral water', 'frozen smoothie', 'spaghetti', 'nan', 'milk'}), support=0.003199573390214638, ordered_statistics=[OrderedStatistic(items_base=frozenset({'frozen smoothie', 'nan', 'spaghetti', 'mineral water'}), items_add=frozenset({'milk'}), confidence=0.4705882352941177, lift=3.631566206729606), OrderedStatistic(items_base=frozenset({'nan', 'milk', 'spaghetti', 'mineral water'}), items_add=frozenset({'frozen smoothie'}), confidence=0.2033898305084746, lift=3.211846565566459)]),\n",
       " RelationRecord(items=frozenset({'mineral water', 'frozen vegetables', 'nan', 'milk', 'ground beef'}), support=0.0037328356219170776, ordered_statistics=[OrderedStatistic(items_base=frozenset({'nan', 'frozen vegetables', 'ground beef', 'mineral water'}), items_add=frozenset({'milk'}), confidence=0.40579710144927533, lift=3.1315679608755294), OrderedStatistic(items_base=frozenset({'nan', 'frozen vegetables', 'milk', 'mineral water'}), items_add=frozenset({'ground beef'}), confidence=0.3373493975903614, lift=3.4334570302921317), OrderedStatistic(items_base=frozenset({'nan', 'milk', 'ground beef', 'mineral water'}), items_add=frozenset({'frozen vegetables'}), confidence=0.3373493975903614, lift=3.539101861993428)]),\n",
       " RelationRecord(items=frozenset({'frozen vegetables', 'spaghetti', 'nan', 'milk', 'ground beef'}), support=0.0030662578322890282, ordered_statistics=[OrderedStatistic(items_base=frozenset({'nan', 'frozen vegetables', 'milk', 'ground beef'}), items_add=frozenset({'spaghetti'}), confidence=0.5348837209302326, lift=3.0721001460165964), OrderedStatistic(items_base=frozenset({'nan', 'frozen vegetables', 'milk', 'spaghetti'}), items_add=frozenset({'ground beef'}), confidence=0.3709677419354839, lift=3.7756160546242397), OrderedStatistic(items_base=frozenset({'nan', 'milk', 'ground beef', 'spaghetti'}), items_add=frozenset({'frozen vegetables'}), confidence=0.3150684931506849, lift=3.305354919053549)]),\n",
       " RelationRecord(items=frozenset({'mineral water', 'frozen vegetables', 'spaghetti', 'nan', 'ground beef'}), support=0.004399413411545127, ordered_statistics=[OrderedStatistic(items_base=frozenset({'nan', 'frozen vegetables', 'spaghetti', 'mineral water'}), items_add=frozenset({'ground beef'}), confidence=0.3666666666666667, lift=3.7318407960199007)]),\n",
       " RelationRecord(items=frozenset({'mineral water', 'frozen vegetables', 'nan', 'milk', 'olive oil'}), support=0.003332888948140248, ordered_statistics=[OrderedStatistic(items_base=frozenset({'nan', 'frozen vegetables', 'milk', 'mineral water'}), items_add=frozenset({'olive oil'}), confidence=0.30120481927710846, lift=4.573557387444516), OrderedStatistic(items_base=frozenset({'nan', 'frozen vegetables', 'olive oil', 'mineral water'}), items_add=frozenset({'milk'}), confidence=0.5102040816326531, lift=3.937284790459394), OrderedStatistic(items_base=frozenset({'nan', 'milk', 'olive oil', 'mineral water'}), items_add=frozenset({'frozen vegetables'}), confidence=0.39062500000000006, lift=4.098011363636364)]),\n",
       " RelationRecord(items=frozenset({'mineral water', 'frozen vegetables', 'soup', 'nan', 'milk'}), support=0.0030662578322890282, ordered_statistics=[OrderedStatistic(items_base=frozenset({'nan', 'frozen vegetables', 'milk', 'mineral water'}), items_add=frozenset({'soup'}), confidence=0.27710843373493976, lift=5.484407286136631), OrderedStatistic(items_base=frozenset({'soup', 'nan', 'frozen vegetables', 'milk'}), items_add=frozenset({'mineral water'}), confidence=0.7666666666666666, lift=3.21631245339299), OrderedStatistic(items_base=frozenset({'soup', 'nan', 'frozen vegetables', 'mineral water'}), items_add=frozenset({'milk'}), confidence=0.6052631578947368, lift=4.670863114576565), OrderedStatistic(items_base=frozenset({'soup', 'nan', 'milk', 'mineral water'}), items_add=frozenset({'frozen vegetables'}), confidence=0.35937500000000006, lift=3.7701704545454553)]),\n",
       " RelationRecord(items=frozenset({'mineral water', 'frozen vegetables', 'spaghetti', 'nan', 'milk'}), support=0.004532728969470737, ordered_statistics=[OrderedStatistic(items_base=frozenset({'nan', 'milk', 'spaghetti', 'mineral water'}), items_add=frozenset({'frozen vegetables'}), confidence=0.28813559322033894, lift=3.0228043143297376)]),\n",
       " RelationRecord(items=frozenset({'mineral water', 'frozen vegetables', 'spaghetti', 'nan', 'shrimp'}), support=0.003332888948140248, ordered_statistics=[OrderedStatistic(items_base=frozenset({'nan', 'frozen vegetables', 'spaghetti', 'mineral water'}), items_add=frozenset({'shrimp'}), confidence=0.2777777777777778, lift=3.8873341625207294), OrderedStatistic(items_base=frozenset({'nan', 'shrimp', 'spaghetti', 'mineral water'}), items_add=frozenset({'frozen vegetables'}), confidence=0.39062500000000006, lift=4.098011363636364)]),\n",
       " RelationRecord(items=frozenset({'mineral water', 'frozen vegetables', 'spaghetti', 'nan', 'tomatoes'}), support=0.0030662578322890282, ordered_statistics=[OrderedStatistic(items_base=frozenset({'nan', 'frozen vegetables', 'spaghetti', 'mineral water'}), items_add=frozenset({'tomatoes'}), confidence=0.2555555555555556, lift=3.7366904916612524), OrderedStatistic(items_base=frozenset({'tomatoes', 'nan', 'frozen vegetables', 'mineral water'}), items_add=frozenset({'spaghetti'}), confidence=0.5227272727272727, lift=3.0022796881525826), OrderedStatistic(items_base=frozenset({'tomatoes', 'nan', 'spaghetti', 'mineral water'}), items_add=frozenset({'frozen vegetables'}), confidence=0.32857142857142857, lift=3.447012987012987)]),\n",
       " RelationRecord(items=frozenset({'mineral water', 'spaghetti', 'nan', 'ground beef', 'olive oil'}), support=0.0030662578322890282, ordered_statistics=[OrderedStatistic(items_base=frozenset({'nan', 'olive oil', 'spaghetti', 'mineral water'}), items_add=frozenset({'ground beef'}), confidence=0.2987012987012987, lift=3.0401064335935435)]),\n",
       " RelationRecord(items=frozenset({'mineral water', 'spaghetti', 'nan', 'ground beef', 'tomatoes'}), support=0.0030662578322890282, ordered_statistics=[OrderedStatistic(items_base=frozenset({'tomatoes', 'nan', 'ground beef', 'mineral water'}), items_add=frozenset({'spaghetti'}), confidence=0.5609756097560976, lift=3.221958689724723), OrderedStatistic(items_base=frozenset({'tomatoes', 'nan', 'spaghetti', 'mineral water'}), items_add=frozenset({'ground beef'}), confidence=0.32857142857142857, lift=3.344117076952898)]),\n",
       " RelationRecord(items=frozenset({'mineral water', 'spaghetti', 'nan', 'milk', 'olive oil'}), support=0.003332888948140248, ordered_statistics=[OrderedStatistic(items_base=frozenset({'nan', 'milk', 'spaghetti', 'mineral water'}), items_add=frozenset({'olive oil'}), confidence=0.211864406779661, lift=3.216993755575379)]),\n",
       " RelationRecord(items=frozenset({'mineral water', 'spaghetti', 'nan', 'milk', 'tomatoes'}), support=0.003332888948140248, ordered_statistics=[OrderedStatistic(items_base=frozenset({'nan', 'milk', 'spaghetti', 'mineral water'}), items_add=frozenset({'tomatoes'}), confidence=0.211864406779661, lift=3.0978458387022165)])]"
      ]
     },
     "execution_count": 34,
     "metadata": {},
     "output_type": "execute_result"
    }
   ],
   "source": [
    "results"
   ]
  },
  {
   "cell_type": "code",
   "execution_count": 36,
   "metadata": {},
   "outputs": [
    {
     "data": {
      "text/plain": [
       "'avocado'"
      ]
     },
     "execution_count": 36,
     "metadata": {},
     "output_type": "execute_result"
    }
   ],
   "source": [
    "str(list(results[9][2][0][0])[0])"
   ]
  },
  {
   "cell_type": "code",
   "execution_count": 37,
   "metadata": {},
   "outputs": [
    {
     "data": {
      "text/plain": [
       "2"
      ]
     },
     "execution_count": 37,
     "metadata": {},
     "output_type": "execute_result"
    }
   ],
   "source": [
    "len(results[9][2][0][0])"
   ]
  },
  {
   "cell_type": "code",
   "execution_count": null,
   "metadata": {},
   "outputs": [],
   "source": []
  }
 ],
 "metadata": {
  "kernelspec": {
   "display_name": "Python 3",
   "language": "python",
   "name": "python3"
  },
  "language_info": {
   "codemirror_mode": {
    "name": "ipython",
    "version": 3
   },
   "file_extension": ".py",
   "mimetype": "text/x-python",
   "name": "python",
   "nbconvert_exporter": "python",
   "pygments_lexer": "ipython3",
   "version": "3.7.4"
  }
 },
 "nbformat": 4,
 "nbformat_minor": 4
}
